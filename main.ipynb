{
 "cells": [
  {
   "cell_type": "code",
   "execution_count": 1,
   "metadata": {},
   "outputs": [
    {
     "name": "stdout",
     "output_type": "stream",
     "text": [
      "[[10 20 30 40 50 60 70 80 90 100]\n",
      " [1 3 6 10 15 21 28 36 45 55]\n",
      " [1 4 9 16 25 36 49 64 81 100]]\n"
     ]
    }
   ],
   "source": [
    "import numpy as np\n",
    "\n",
    "def file_handling():\n",
    "    lines = []\n",
    "\n",
    "    with open('company.txt','r') as file:\n",
    "        for line in file:\n",
    "            values = line.strip().split(',')\n",
    "            int_values = [int(val)for val in values]\n",
    "            lines.append(int_values)\n",
    "\n",
    "        data_frame = np.array([np.array(row) for row in lines], dtype = object)\n",
    "\n",
    "        for row in data_frame:\n",
    "            for i in row:\n",
    "                print(type(i))\n",
    "\n",
    "        return data_frame\n",
    "def main():\n",
    "    data_frame = file_handling()\n",
    "\n",
    "    print(data_frame)\n",
    "\n",
    "main()\n",
    "\n"
   ]
  },
  {
   "cell_type": "code",
   "execution_count": null,
   "metadata": {},
   "outputs": [],
   "source": []
  }
 ],
 "metadata": {
  "kernelspec": {
   "display_name": "venv2",
   "language": "python",
   "name": "python3"
  },
  "language_info": {
   "codemirror_mode": {
    "name": "ipython",
    "version": 3
   },
   "file_extension": ".py",
   "mimetype": "text/x-python",
   "name": "python",
   "nbconvert_exporter": "python",
   "pygments_lexer": "ipython3",
   "version": "3.12.3"
  }
 },
 "nbformat": 4,
 "nbformat_minor": 2
}
